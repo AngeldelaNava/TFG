{
 "cells": [
  {
   "cell_type": "code",
   "execution_count": null,
   "id": "befcace4-a508-47d9-880e-98f9172269cf",
   "metadata": {},
   "outputs": [],
   "source": [
    "import pandas as pd\n",
    "import numpy as np\n",
    "import matplotlib.pyplot as plt\n",
    "import os\n",
    "import re\n",
    "\n",
    "from pathlib import Path\n",
    "from scipy.interpolate import interp1d"
   ]
  },
  {
   "cell_type": "code",
   "execution_count": null,
   "id": "6a5cac91-82b8-49cf-bac9-414f06e6f46a",
   "metadata": {},
   "outputs": [],
   "source": [
    "def cargar_senal(path_csv):\n",
    "    df = pd.read_csv(path_csv, sep=';')\n",
    "    df.columns = [col.strip() for col in df.columns]\n",
    "    return df"
   ]
  },
  {
   "cell_type": "code",
   "execution_count": null,
   "id": "ac978d54-71d9-4d77-af6d-34505cda30c5",
   "metadata": {},
   "outputs": [],
   "source": [
    "def upsample_rom(df):\n",
    "    # Obtener el número total de filas (filas de datos)\n",
    "    original_len = len(df)\n",
    "    \n",
    "    # Contar las celdas no vacías en la columna de ángulos (ROM)\n",
    "    no_vacias_angulos = df['angles_biceps_brachii_(right)_triceps_brachii_long_(right)'].notna().sum()\n",
    "    \n",
    "    # Si hay valores válidos, se puede hacer upsampling\n",
    "    if no_vacias_angulos == 0:\n",
    "        raise ValueError(\"No hay valores válidos en la columna de ángulos.\")\n",
    "    \n",
    "    # Calcular el factor de upsampling\n",
    "    factor_upsampling = original_len / no_vacias_angulos\n",
    "\n",
    "    #ROM Sampling Rate = 20 Hz\n",
    "\n",
    "    sampling_rate = factor_upsampling * 20\n",
    "    \n",
    "    # Crear el espacio de interpolación para ROM\n",
    "    x_original = np.linspace(0, 1, no_vacias_angulos)\n",
    "    x_new = np.linspace(0, 1, original_len)\n",
    "    \n",
    "    # Crear DataFrame vacío para los datos upsampled\n",
    "    upsampled_df = df.copy()  # Copiar el DataFrame original para no modificar las otras columnas\n",
    "    \n",
    "    # Interpolación solo de la columna de ROM\n",
    "    rom_col = 'angles_biceps_brachii_(right)_triceps_brachii_long_(right)'\n",
    "    interpolator = interp1d(x_original, df[rom_col].dropna(), kind='cubic', fill_value='extrapolate')\n",
    "    upsampled_df[rom_col] = interpolator(x_new)\n",
    "    \n",
    "    return upsampled_df, sampling_rate"
   ]
  },
  {
   "cell_type": "code",
   "execution_count": null,
   "id": "02674045-baf3-4747-b3c2-4add41ff0ee4",
   "metadata": {},
   "outputs": [],
   "source": [
    "def calcular_aceleracion(df, sampling_rate):\n",
    "    rom_col = 'angles_biceps_brachii_(right)_triceps_brachii_long_(right)'\n",
    "    tiempo = np.arange(len(df)) / sampling_rate\n",
    "    \n",
    "    d_speed = np.diff(df[rom_col]) / np.diff(tiempo)\n",
    "    d_speed = np.insert(d_speed, 0, d_speed[0])\n",
    "    \n",
    "    d_acceleration = np.diff(d_speed) / np.diff(tiempo)\n",
    "    d_acceleration = np.insert(d_acceleration, 0, d_acceleration[0])\n",
    "    \n",
    "    d_jerk = np.diff(d_acceleration) / np.diff(tiempo)\n",
    "    d_jerk = np.insert(d_jerk, 0, d_jerk[0])\n",
    "\n",
    "    #Save in the dataframe only coherent values (fix first values of acceleration and jerk)\n",
    "    \n",
    "    d_acceleration[0] = d_acceleration[2]\n",
    "    d_acceleration[1] = d_acceleration[2]\n",
    "\n",
    "    d_jerk[0] = d_jerk[3]\n",
    "    d_jerk[1] = d_jerk[3]\n",
    "    d_jerk[2] = d_jerk[3]\n",
    "    \n",
    "    df['speed'] = d_speed\n",
    "    df['acceleration'] = d_acceleration\n",
    "    df['jerk'] = d_jerk\n",
    "    \n",
    "    return df"
   ]
  },
  {
   "cell_type": "code",
   "execution_count": null,
   "id": "01deb003-f001-40df-b717-094c05ff0c6c",
   "metadata": {},
   "outputs": [],
   "source": [
    "def resolver_offsets_emg(df):\n",
    "    for col in df.columns:\n",
    "        if 'emg_muscle' in col:\n",
    "            offset = df[col].mean()\n",
    "            df[col] = df[col] - offset\n",
    "    return df"
   ]
  },
  {
   "cell_type": "code",
   "execution_count": null,
   "id": "c02aa5c1-0b6e-43c4-9b16-6501f3a5ce25",
   "metadata": {},
   "outputs": [],
   "source": [
    "def normalizar_tiempo(df):\n",
    "    n = len(df)\n",
    "    df['tiempo_normalizado'] = np.linspace(0, 1, n)\n",
    "    return df"
   ]
  },
  {
   "cell_type": "code",
   "execution_count": null,
   "id": "19b3d0e9-0ce5-4f6a-ab4f-08629765867a",
   "metadata": {},
   "outputs": [],
   "source": [
    "def columnas_identificadoras(df, path):\n",
    "    carpetas = os.path.dirname(path).split('/')\n",
    "    #print(carpetas)\n",
    "    del carpetas[0]\n",
    "    #print(carpetas)\n",
    "    df['class'] = [carpetas[0]] * len(df)\n",
    "    bpm = re.findall(r'\\d+', carpetas[1])\n",
    "    df['BPM'] = [int(bpm[0])] * len(df)\n",
    "    df['kid number'] = [carpetas[2]] * len(df)\n",
    "    return df"
   ]
  },
  {
   "cell_type": "code",
   "execution_count": null,
   "id": "d9cc844a-82f4-4aa4-895b-2d6473562bee",
   "metadata": {},
   "outputs": [],
   "source": [
    "def borrar_y_renombrar(df):\n",
    "    df = df.drop(['angles_window', 'tiempo_normalizado'], axis = 1)\n",
    "    df.columns = ['ROM', 'Biceps EMG', 'Triceps EMG', 'Speed', 'Acceleration', 'Jerk', 'Class', 'BPM', 'Kid number']\n",
    "    return df"
   ]
  },
  {
   "cell_type": "code",
   "execution_count": null,
   "id": "ec19999e-1bcb-4989-b855-9838554a612e",
   "metadata": {},
   "outputs": [],
   "source": [
    "def añadir_a_tabla_global(global_df, df):\n",
    "    global_df.loc[len(global_df)] = [\n",
    "        df['ROM'].tolist(),\n",
    "        df['Biceps EMG'].tolist(),\n",
    "        df['Triceps EMG'].tolist(),\n",
    "        df['Speed'].tolist(),\n",
    "        df['Acceleration'].tolist(),\n",
    "        df['Jerk'].tolist(),\n",
    "        df['Class'].iloc[0],\n",
    "        df['BPM'].iloc[0],\n",
    "        df['Kid number'].iloc[0]\n",
    "    ]\n",
    "    return global_df"
   ]
  },
  {
   "cell_type": "code",
   "execution_count": null,
   "id": "972a82b4-cd07-4cda-9838-90c9c06d4bd3",
   "metadata": {},
   "outputs": [],
   "source": [
    "columnas = ['ROM', 'Biceps EMG', 'Triceps EMG', 'Speed', 'Acceleration', 'Jerk', 'Class', 'BPM', 'Kid number']\n",
    "global_df = pd.DataFrame(columns=columnas)"
   ]
  },
  {
   "cell_type": "code",
   "execution_count": null,
   "id": "a0c18b89-914a-4053-b699-9f46f77a8017",
   "metadata": {},
   "outputs": [],
   "source": [
    "#path = 'MEDICIONES_COLEGIO/2ESO/42BPM/1/advanced_mdurance-test-240835 (5).csv'\n",
    "root = Path('MEDICIONES_COLEGIO')\n",
    "for csv_file in root.glob('*/*/*/*/advanced_*.csv'):\n",
    "    path = csv_file.as_posix()\n",
    "    df = cargar_senal(path)\n",
    "    df_copy = df.copy()\n",
    "    df, sampling_rate = upsample_rom(df)\n",
    "    df = calcular_aceleracion(df, sampling_rate)\n",
    "    df = resolver_offsets_emg(df)\n",
    "    df = normalizar_tiempo(df)\n",
    "    df = columnas_identificadoras(df, path)\n",
    "    df = borrar_y_renombrar(df)\n",
    "    global_df = añadir_a_tabla_global(global_df, df)\n",
    "global_df.to_excel('global_table.xlsx', index=False)"
   ]
  }
 ],
 "metadata": {
  "kernelspec": {
   "display_name": "Python 3 (ipykernel)",
   "language": "python",
   "name": "python3"
  },
  "language_info": {
   "codemirror_mode": {
    "name": "ipython",
    "version": 3
   },
   "file_extension": ".py",
   "mimetype": "text/x-python",
   "name": "python",
   "nbconvert_exporter": "python",
   "pygments_lexer": "ipython3",
   "version": "3.12.10"
  }
 },
 "nbformat": 4,
 "nbformat_minor": 5
}
